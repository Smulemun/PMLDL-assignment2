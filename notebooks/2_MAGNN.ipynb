{
 "cells": [
  {
   "cell_type": "code",
   "execution_count": 140,
   "metadata": {},
   "outputs": [],
   "source": [
    "import torch\n",
    "import torch.nn as nn\n",
    "import numpy as np\n",
    "import torch.nn.functional as F\n",
    "import pickle\n",
    "from tqdm import tqdm\n",
    "from torch.utils.data import Dataset, DataLoader\n",
    "from sklearn.metrics import average_precision_score\n",
    "import matplotlib.pyplot as plt"
   ]
  },
  {
   "cell_type": "code",
   "execution_count": null,
   "metadata": {},
   "outputs": [],
   "source": [
    "np.random.seed(1337)\n",
    "torch.manual_seed(1337)"
   ]
  },
  {
   "cell_type": "code",
   "execution_count": 2,
   "metadata": {},
   "outputs": [],
   "source": [
    "NUM_USERS = 943\n",
    "NUM_MOVIES = 1682\n",
    "BATCH_SIZE = 64\n",
    "\n",
    "num_user_features = 24\n",
    "num_movie_features = 19\n",
    "\n",
    "device = 'cuda' if torch.cuda.is_available() else 'cpu'"
   ]
  },
  {
   "cell_type": "code",
   "execution_count": 3,
   "metadata": {},
   "outputs": [],
   "source": [
    "path = '../data/preprocessed/'\n",
    "\n",
    "in_file = open(path + 'user_features.pickle', 'rb')\n",
    "user_features = pickle.load(in_file)\n",
    "for key, val in user_features.items():\n",
    "    user_features[key] = torch.tensor(val.astype(np.float32))\n",
    "in_file.close()\n",
    "\n",
    "in_file = open(path + 'movie_features.pickle', 'rb')\n",
    "movie_features = pickle.load(in_file)\n",
    "for key, val in movie_features.items():\n",
    "    movie_features[key] = torch.tensor(val.astype(np.float32))\n",
    "in_file.close()"
   ]
  },
  {
   "cell_type": "code",
   "execution_count": 4,
   "metadata": {},
   "outputs": [],
   "source": [
    "path = '../data/preprocessed/train/'\n",
    "\n",
    "in_file = open(path + 'user_metapaths.pickle', 'rb')\n",
    "train_user_metapaths = pickle.load(in_file)\n",
    "in_file.close()\n",
    "\n",
    "in_file = open(path + 'movie_metapaths.pickle', 'rb')\n",
    "train_movie_metapaths = pickle.load(in_file)\n",
    "in_file.close()\n",
    "\n",
    "train_pos = np.load(path + 'train_pos.npy')"
   ]
  },
  {
   "cell_type": "code",
   "execution_count": 5,
   "metadata": {},
   "outputs": [],
   "source": [
    "path = '../data/preprocessed/test/'\n",
    "\n",
    "in_file = open(path + 'user_metapaths.pickle', 'rb')\n",
    "test_user_metapaths = pickle.load(in_file)\n",
    "in_file.close()\n",
    "\n",
    "in_file = open(path + 'movie_metapaths.pickle', 'rb')\n",
    "test_movie_metapaths = pickle.load(in_file)\n",
    "in_file.close()\n",
    "\n",
    "test_pos = np.load(path + 'test_pos.npy')"
   ]
  },
  {
   "cell_type": "code",
   "execution_count": 107,
   "metadata": {},
   "outputs": [],
   "source": [
    "class UserMovieDataset(Dataset):\n",
    "    def __init__(self, positives, user_metapaths, movie_metapaths, max_user_size, max_movie_size, benchmark=False):\n",
    "\n",
    "        self.max_user_size = max_user_size\n",
    "        self.max_movie_size = max_movie_size\n",
    "\n",
    "        self.user_metapaths = user_metapaths\n",
    "        self.movie_metapaths = movie_metapaths\n",
    "        self.merge_metapaths()\n",
    "\n",
    "        if not benchmark:\n",
    "            self.pos = positives\n",
    "            self.sample_negatives()\n",
    "\n",
    "            self.data = torch.tensor(np.vstack([self.pos, self.neg]))\n",
    "            self.labels = torch.vstack([torch.ones((len(self.pos), 1)), torch.zeros((len(self.neg), 1))])\n",
    "        else:\n",
    "            self.data = torch.tensor(positives[:, :2])\n",
    "            self.labels = torch.tensor(positives[:, 2])\n",
    "\n",
    "    def sample_negatives(self):\n",
    "        self.neg = []\n",
    "        for i in tqdm(range(len(self.pos)), desc='Sampling negative edges'):\n",
    "            user_id = np.random.randint(NUM_USERS)\n",
    "            movie_id = np.random.randint(NUM_MOVIES)\n",
    "            while ([user_id, movie_id] not in self.pos and \\\n",
    "                    [user_id, movie_id] not in self.neg) or \\\n",
    "                    len(self.user_metapaths[user_id]) == 0 or \\\n",
    "                    len(self.movie_metapaths[movie_id]) == 0:\n",
    "                user_id = np.random.randint(NUM_USERS)\n",
    "                movie_id = np.random.randint(NUM_MOVIES)\n",
    "            self.neg.append([user_id, movie_id])\n",
    "        self.neg = np.array(self.neg)\n",
    "\n",
    "    def merge_metapaths(self):\n",
    "        for key, val in tqdm(self.user_metapaths.items(), desc='Extracting user metapaths'):\n",
    "            if len(self.user_metapaths[key]) > 0:\n",
    "                self.user_metapaths[key] = [torch.vstack([user_features[i] for i in val[:, 0]])[:self.max_user_size], \n",
    "                                            torch.vstack([movie_features[i] for i in val[:, 1]])[:self.max_user_size], \n",
    "                                            torch.vstack([user_features[i] for i in val[:, 2]])[:self.max_user_size]]\n",
    "                while len(self.user_metapaths[key][0]) < self.max_user_size:\n",
    "                    self.user_metapaths[key][0] = torch.vstack([self.user_metapaths[key][0], torch.zeros_like(self.user_metapaths[key][0][0])])\n",
    "                    self.user_metapaths[key][1] = torch.vstack([self.user_metapaths[key][1], torch.zeros_like(self.user_metapaths[key][1][0])])\n",
    "                    self.user_metapaths[key][2] = torch.vstack([self.user_metapaths[key][2], torch.zeros_like(self.user_metapaths[key][2][0])])\n",
    "                \n",
    "            \n",
    "        for key, val in tqdm(self.movie_metapaths.items(), desc='Extracting movie metapaths'):\n",
    "            if len(self.movie_metapaths[key]) > 0:\n",
    "                self.movie_metapaths[key] = [torch.vstack([movie_features[i] for i in val[:, 0]])[:self.max_movie_size],\n",
    "                                            torch.vstack([user_features[i] for i in val[:, 1]])[:self.max_movie_size],\n",
    "                                            torch.vstack([movie_features[i] for i in val[:, 2]])[:self.max_movie_size]]\n",
    "                while len(self.movie_metapaths[key][0]) < self.max_movie_size:\n",
    "                    self.movie_metapaths[key][0] = torch.vstack([self.movie_metapaths[key][0], torch.zeros_like(self.movie_metapaths[key][0][0])])\n",
    "                    self.movie_metapaths[key][1] = torch.vstack([self.movie_metapaths[key][1], torch.zeros_like(self.movie_metapaths[key][1][0])])\n",
    "                    self.movie_metapaths[key][2] = torch.vstack([self.movie_metapaths[key][2], torch.zeros_like(self.movie_metapaths[key][2][0])])\n",
    "\n",
    "    def __getitem__(self, idx):\n",
    "        user_id, movie_id = self.data[idx]\n",
    "        return self.data[idx], self.labels[idx], *self.user_metapaths[user_id.item()], *self.movie_metapaths[movie_id.item()]\n",
    "\n",
    "    def __len__(self):\n",
    "        return len(self.data)"
   ]
  },
  {
   "cell_type": "code",
   "execution_count": 7,
   "metadata": {},
   "outputs": [
    {
     "name": "stdout",
     "output_type": "stream",
     "text": [
      "Train Dataset:\n"
     ]
    },
    {
     "name": "stderr",
     "output_type": "stream",
     "text": [
      "Extracting user metapaths: 100%|██████████| 943/943 [05:33<00:00,  2.83it/s]\n",
      "Extracting movie metapaths: 100%|██████████| 1682/1682 [09:35<00:00,  2.92it/s]\n",
      "Sampling negative edges: 100%|██████████| 49906/49906 [00:18<00:00, 2674.27it/s]\n"
     ]
    },
    {
     "name": "stdout",
     "output_type": "stream",
     "text": [
      "Test Dataset:\n"
     ]
    },
    {
     "name": "stderr",
     "output_type": "stream",
     "text": [
      "Extracting user metapaths: 100%|██████████| 943/943 [00:01<00:00, 502.09it/s]\n",
      "Extracting movie metapaths: 100%|██████████| 1682/1682 [00:01<00:00, 1538.77it/s]\n",
      "Sampling negative edges: 100%|██████████| 5469/5469 [00:00<00:00, 9924.91it/s] \n"
     ]
    }
   ],
   "source": [
    "print('Train Dataset:')\n",
    "train_dataset = UserMovieDataset(train_pos, train_user_metapaths, train_movie_metapaths, 5931, 3789)\n",
    "print('Test Dataset:')\n",
    "test_dataset = UserMovieDataset(test_pos, test_user_metapaths, test_movie_metapaths, 100, 41)"
   ]
  },
  {
   "cell_type": "code",
   "execution_count": 8,
   "metadata": {},
   "outputs": [],
   "source": [
    "train_loader = DataLoader(train_dataset, batch_size=BATCH_SIZE, shuffle=True)\n",
    "test_loader = DataLoader(test_dataset, batch_size=BATCH_SIZE, shuffle=True)"
   ]
  },
  {
   "cell_type": "code",
   "execution_count": 79,
   "metadata": {},
   "outputs": [],
   "source": [
    "class GraphAttention(nn.Module):\n",
    "    def __init__(self, \n",
    "                 hidden_dim,\n",
    "                 num_heads,\n",
    "                 dropout):\n",
    "        super().__init__()\n",
    "        self.hidden_dim = hidden_dim\n",
    "        self.query = nn.Linear(hidden_dim, hidden_dim)\n",
    "        self.key = nn.Linear(hidden_dim, hidden_dim)\n",
    "        self.value = nn.Linear(hidden_dim, hidden_dim)\n",
    "        self.attention = nn.MultiheadAttention(hidden_dim, num_heads, dropout=dropout, batch_first=True)\n",
    "        \n",
    "    def forward(self, x):\n",
    "        queries = self.query(x)\n",
    "        keys = self.key(x)\n",
    "        values = self.value(x)\n",
    "        weighted, _ = self.attention(queries, keys, values)\n",
    "        return weighted\n",
    "\n",
    "class MetapathEncoder(nn.Module):\n",
    "    def __init__(self,\n",
    "                 in_dim,\n",
    "                 out_dim, \n",
    "                ):\n",
    "        super().__init__()\n",
    "        self.fc = nn.Linear(in_dim, out_dim)\n",
    "\n",
    "    def forward(self, metapath):\n",
    "        x = torch.mean(metapath, dim=1)\n",
    "        return self.fc(x)\n",
    "\n",
    "class MAGNN(nn.Module):\n",
    "    def __init__(self,\n",
    "                 num_user_features,\n",
    "                 num_movie_features,\n",
    "                 hidden_dim,\n",
    "                 out_dim,\n",
    "                 num_heads,\n",
    "                 dropout,\n",
    "                 batch_size\n",
    "                 ):\n",
    "        super().__init__()\n",
    "        self.hidden_dim = hidden_dim\n",
    "        self.batch_size = batch_size\n",
    "\n",
    "        self.num_user_features = num_user_features\n",
    "        self.num_movie_features = num_movie_features\n",
    "\n",
    "        self.user_feature_encoder = nn.Linear(self.num_user_features, hidden_dim)\n",
    "        self.movie_feature_encoder = nn.Linear(self.num_movie_features, hidden_dim)\n",
    "\n",
    "        self.user_metapath_encoder = MetapathEncoder(hidden_dim, hidden_dim)\n",
    "        self.user_metapath_attention = GraphAttention(hidden_dim, num_heads, dropout)\n",
    "\n",
    "        self.movie_metapath_encoder = MetapathEncoder(hidden_dim, hidden_dim)\n",
    "        self.movie_metapath_attention = GraphAttention(hidden_dim, num_heads, dropout)\n",
    "\n",
    "        self.user_node_embedding = nn.Linear(hidden_dim, out_dim)\n",
    "        self.user_dropout = nn.Dropout(dropout)\n",
    "\n",
    "        self.movie_node_embedding = nn.Linear(hidden_dim, out_dim, dropout)\n",
    "        self.movie_dropout = nn.Dropout(dropout)\n",
    "\n",
    "        self.recommender = nn.Linear(2 * out_dim, 1)\n",
    "\n",
    "    def forward(self, edge, user_metapaths1, user_metapaths2, user_metapaths3, movie_metapaths1, movie_metapaths2, movie_metapaths3):\n",
    "\n",
    "        user_metapath_isntance = torch.cat([\n",
    "            self.user_feature_encoder(user_metapaths1),\n",
    "            self.movie_feature_encoder(user_metapaths2),\n",
    "            self.user_feature_encoder(user_metapaths3)\n",
    "        ], dim=1)\n",
    "        user_aggregated_metapath = F.tanh(self.user_metapath_encoder(user_metapath_isntance))\n",
    "        user_aggregated_metapath = self.user_metapath_attention(user_aggregated_metapath)\n",
    "\n",
    "        movie_metapath_isntance = torch.cat([\n",
    "            self.movie_feature_encoder(movie_metapaths1),\n",
    "            self.user_feature_encoder(movie_metapaths2),\n",
    "            self.movie_feature_encoder(movie_metapaths3)\n",
    "        ], dim=1)\n",
    "        movie_aggregated_metapath = F.tanh(self.movie_metapath_encoder(movie_metapath_isntance))\n",
    "        movie_aggregated_metapath = self.movie_metapath_attention(movie_aggregated_metapath)\n",
    "\n",
    "        user_embed = self.user_dropout(F.sigmoid(self.user_node_embedding(user_aggregated_metapath)))\n",
    "        movie_embed = self.movie_dropout(F.sigmoid(self.movie_node_embedding(movie_aggregated_metapath)))\n",
    "\n",
    "        out = self.recommender(torch.cat([user_embed, movie_embed], dim=1))\n",
    "\n",
    "        return F.sigmoid(out)"
   ]
  },
  {
   "cell_type": "code",
   "execution_count": 80,
   "metadata": {},
   "outputs": [],
   "source": [
    "model = MAGNN(num_user_features=num_user_features, \n",
    "              num_movie_features=num_movie_features, \n",
    "              hidden_dim=128, \n",
    "              out_dim=128, \n",
    "              num_heads=8, \n",
    "              dropout=0.2,\n",
    "              batch_size=BATCH_SIZE)"
   ]
  },
  {
   "cell_type": "code",
   "execution_count": 81,
   "metadata": {},
   "outputs": [],
   "source": [
    "criterion = nn.BCELoss()\n",
    "optimizer = torch.optim.Adam(model.parameters(), lr=2e-5, weight_decay=2e-7)"
   ]
  },
  {
   "cell_type": "code",
   "execution_count": 82,
   "metadata": {},
   "outputs": [],
   "source": [
    "def train(epoch):\n",
    "\n",
    "    losses = []\n",
    "    accs = []\n",
    "\n",
    "    model.train()\n",
    "    progress_bar = tqdm(train_loader, desc=f'Epoch {epoch}')\n",
    "    for batch in progress_bar:\n",
    "        edge, label, umetapath1, umetapath2, umetapath3, mmetapath1, mmetapath2, mmetapath3 = batch\n",
    "        edge, label, umetapath1, umetapath2, umetapath3, mmetapath1, mmetapath2, mmetapath3 = \\\n",
    "            edge.to(device), label.to(device), umetapath1.to(device), umetapath2.to(device), umetapath3.to(device), mmetapath1.to(device), mmetapath2.to(device), mmetapath3.to(device)\n",
    "\n",
    "        optimizer.zero_grad()\n",
    "\n",
    "        out = model(edge, umetapath1, umetapath2, umetapath3, mmetapath1, mmetapath2, mmetapath3)\n",
    "\n",
    "        pred = (out > 0.5)\n",
    "\n",
    "        loss = criterion(out, label)\n",
    "        acc = (pred == label).sum() / BATCH_SIZE\n",
    "        \n",
    "        losses.append(loss.item())\n",
    "        accs.append(acc.cpu())\n",
    "\n",
    "        loss.backward()\n",
    "        optimizer.step()\n",
    "\n",
    "        progress_bar.set_description(f'Epoch {epoch}, Loss: {np.mean(losses):.5f}, Acc: {np.mean(accs):.5f}')\n",
    "\n",
    "    return np.mean(losses)\n",
    "\n",
    "def validate(epoch):\n",
    "    losses = []\n",
    "    accs = []\n",
    "\n",
    "    model.eval()\n",
    "    progress_bar = tqdm(test_loader)\n",
    "    for batch in progress_bar:\n",
    "        edge, label, umetapath1, umetapath2, umetapath3, mmetapath1, mmetapath2, mmetapath3 = batch\n",
    "        edge, label, umetapath1, umetapath2, umetapath3, mmetapath1, mmetapath2, mmetapath3 = \\\n",
    "            edge.to(device), label.to(device), umetapath1.to(device), umetapath2.to(device), umetapath3.to(device), mmetapath1.to(device), mmetapath2.to(device), mmetapath3.to(device)\n",
    "\n",
    "        out = model(edge, umetapath1, umetapath2, umetapath3, mmetapath1, mmetapath2, mmetapath3)\n",
    "\n",
    "        pred = (out > 0.5)\n",
    "\n",
    "        loss = criterion(out, label)\n",
    "        acc = (pred == label).sum() / BATCH_SIZE\n",
    "        \n",
    "        losses.append(loss.item())\n",
    "        accs.append(acc.cpu())\n",
    "\n",
    "        progress_bar.set_description(f'Validation Epoch {epoch}, Loss: {np.mean(losses):.5f}, Acc: {np.mean(accs):.5f}')\n",
    "    \n",
    "    return np.mean(losses)"
   ]
  },
  {
   "cell_type": "code",
   "execution_count": 83,
   "metadata": {},
   "outputs": [],
   "source": [
    "torch.cuda.empty_cache()"
   ]
  },
  {
   "cell_type": "code",
   "execution_count": 84,
   "metadata": {},
   "outputs": [
    {
     "name": "stderr",
     "output_type": "stream",
     "text": [
      "Epoch 0:   0%|          | 0/1560 [00:00<?, ?it/s]"
     ]
    },
    {
     "name": "stderr",
     "output_type": "stream",
     "text": [
      "Epoch 0, Loss: 0.69584, Acc: 0.49976, F1: 0.49534: 100%|██████████| 1560/1560 [04:05<00:00,  6.37it/s]\n",
      "Validation Epoch 0, Loss: 0.69317, Acc: 0.49973, F1: 0.66488: 100%|██████████| 171/171 [00:02<00:00, 74.47it/s]\n"
     ]
    },
    {
     "name": "stdout",
     "output_type": "stream",
     "text": [
      "\n"
     ]
    },
    {
     "name": "stderr",
     "output_type": "stream",
     "text": [
      "Epoch 1, Loss: 0.69541, Acc: 0.50131, F1: 0.49814: 100%|██████████| 1560/1560 [04:01<00:00,  6.45it/s]\n",
      "Validation Epoch 1, Loss: 0.69319, Acc: 0.49973, F1: 0.00000: 100%|██████████| 171/171 [00:02<00:00, 76.74it/s]\n"
     ]
    },
    {
     "name": "stdout",
     "output_type": "stream",
     "text": [
      "\n"
     ]
    },
    {
     "name": "stderr",
     "output_type": "stream",
     "text": [
      "Epoch 2, Loss: 0.60846, Acc: 0.64928, F1: 0.65806: 100%|██████████| 1560/1560 [04:01<00:00,  6.47it/s]\n",
      "Validation Epoch 2, Loss: 0.59107, Acc: 0.70916, F1: 0.73243: 100%|██████████| 171/171 [00:02<00:00, 76.10it/s]\n"
     ]
    },
    {
     "name": "stdout",
     "output_type": "stream",
     "text": [
      "\n"
     ]
    },
    {
     "name": "stderr",
     "output_type": "stream",
     "text": [
      "Epoch 3, Loss: 0.54069, Acc: 0.74485, F1: 0.77150: 100%|██████████| 1560/1560 [04:02<00:00,  6.44it/s]\n",
      "Validation Epoch 3, Loss: 0.59015, Acc: 0.70623, F1: 0.73466: 100%|██████████| 171/171 [00:02<00:00, 78.36it/s]\n"
     ]
    },
    {
     "name": "stdout",
     "output_type": "stream",
     "text": [
      "\n"
     ]
    },
    {
     "name": "stderr",
     "output_type": "stream",
     "text": [
      "Epoch 4, Loss: 0.53782, Acc: 0.74483, F1: 0.77128: 100%|██████████| 1560/1560 [04:01<00:00,  6.45it/s]\n",
      "Validation Epoch 4, Loss: 0.58883, Acc: 0.70587, F1: 0.73707: 100%|██████████| 171/171 [00:02<00:00, 77.90it/s]"
     ]
    },
    {
     "name": "stdout",
     "output_type": "stream",
     "text": [
      "\n"
     ]
    },
    {
     "name": "stderr",
     "output_type": "stream",
     "text": [
      "\n"
     ]
    }
   ],
   "source": [
    "EPOCHS = 5\n",
    "train_losses = []\n",
    "val_losses = []\n",
    "best_loss = 1e9\n",
    "model.to(device)\n",
    "\n",
    "for epoch in range(EPOCHS):\n",
    "    train_loss = train(epoch)\n",
    "    val_loss = validate(epoch)\n",
    "    train_losses.append(train_loss)\n",
    "    val_losses.append(val_loss)\n",
    "    print()\n",
    "    if val_loss < best_loss:\n",
    "        best_loss = val_loss\n",
    "        torch.save(model.state_dict(), '../models/best_magnn.pt')"
   ]
  },
  {
   "cell_type": "code",
   "execution_count": 146,
   "metadata": {},
   "outputs": [
    {
     "data": {
      "image/png": "[encoded data removed]",
      "text/plain": [
       "<Figure size 640x480 with 1 Axes>"
      ]
     },
     "metadata": {},
     "output_type": "display_data"
    }
   ],
   "source": [
    "plt.plot(train_losses, label='Train loss')\n",
    "plt.plot(val_losses, label='Validation loss')\n",
    "plt.legend()\n",
    "plt.savefig('../reports/figures/losses.png')\n",
    "plt.show()"
   ]
  },
  {
   "cell_type": "code",
   "execution_count": 116,
   "metadata": {},
   "outputs": [],
   "source": [
    "path = '../benchmark/data/'\n",
    "\n",
    "in_file = open(path + 'user_metapaths.pickle', 'rb')\n",
    "benchmark_user_metapaths = pickle.load(in_file)\n",
    "in_file.close()\n",
    "\n",
    "in_file = open(path + 'movie_metapaths.pickle', 'rb')\n",
    "benchmark_movie_metapaths = pickle.load(in_file)\n",
    "in_file.close()\n",
    "\n",
    "benchmark_data = np.load(path + 'benchmark_dataset.npy')"
   ]
  },
  {
   "cell_type": "code",
   "execution_count": 117,
   "metadata": {},
   "outputs": [
    {
     "name": "stderr",
     "output_type": "stream",
     "text": [
      "Extracting user metapaths: 100%|██████████| 943/943 [00:02<00:00, 457.23it/s]\n",
      "Extracting movie metapaths: 100%|██████████| 1682/1682 [00:01<00:00, 1270.86it/s]\n"
     ]
    }
   ],
   "source": [
    "benchmark_dataset = UserMovieDataset(benchmark_data, benchmark_user_metapaths, benchmark_movie_metapaths, 100, 41, benchmark=True)\n",
    "\n",
    "benchmark_loader = DataLoader(benchmark_dataset, batch_size=BATCH_SIZE)"
   ]
  },
  {
   "cell_type": "code",
   "execution_count": 118,
   "metadata": {},
   "outputs": [
    {
     "data": {
      "text/plain": [
       "<All keys matched successfully>"
      ]
     },
     "execution_count": 118,
     "metadata": {},
     "output_type": "execute_result"
    }
   ],
   "source": [
    "model = MAGNN(num_user_features=num_user_features, \n",
    "              num_movie_features=num_movie_features, \n",
    "              hidden_dim=128, \n",
    "              out_dim=128, \n",
    "              num_heads=8, \n",
    "              dropout=0.2,\n",
    "              batch_size=BATCH_SIZE)\n",
    "model.load_state_dict(torch.load('../models/best_magnn.pt'))"
   ]
  },
  {
   "cell_type": "code",
   "execution_count": 138,
   "metadata": {},
   "outputs": [
    {
     "name": "stderr",
     "output_type": "stream",
     "text": [
      "100%|██████████| 1317/1317 [00:20<00:00, 64.21it/s]"
     ]
    },
    {
     "name": "stdout",
     "output_type": "stream",
     "text": [
      "mAP: 0.6351890012131759\n",
      "Precission: 0.6037345383680619\n",
      "Recall: 0.7888246242044944\n",
      "Accuracy: 0.5938330292701721\n"
     ]
    },
    {
     "name": "stderr",
     "output_type": "stream",
     "text": [
      "\n"
     ]
    }
   ],
   "source": [
    "model.to(device)\n",
    "model.eval()\n",
    "\n",
    "maps = []\n",
    "accs = []\n",
    "\n",
    "for batch in tqdm(benchmark_loader):\n",
    "    edge, label, umetapath1, umetapath2, umetapath3, mmetapath1, mmetapath2, mmetapath3 = batch\n",
    "    edge, label, umetapath1, umetapath2, umetapath3, mmetapath1, mmetapath2, mmetapath3 = \\\n",
    "        edge.to(device), label.to(device), umetapath1.to(device), umetapath2.to(device), umetapath3.to(device), mmetapath1.to(device), mmetapath2.to(device), mmetapath3.to(device)\n",
    "\n",
    "    out = model(edge, umetapath1, umetapath2, umetapath3, mmetapath1, mmetapath2, mmetapath3)\n",
    "    pred = (out > 0.5)\n",
    "    acc = (pred == label.reshape(-1, 1)).sum() / BATCH_SIZE\n",
    "\n",
    "    accs.append(acc.cpu())\n",
    "    maps.append(average_precision_score(label.reshape(-1, 1).cpu().detach().numpy(), out.cpu().detach().numpy()))\n",
    "\n",
    "print(f'mAP: {np.mean(maps)}')\n",
    "print(f'Accuracy: {np.mean(accs)}')"
   ]
  }
 ],
 "metadata": {
  "kernelspec": {
   "display_name": "Python 3",
   "language": "python",
   "name": "python3"
  },
  "language_info": {
   "codemirror_mode": {
    "name": "ipython",
    "version": 3
   },
   "file_extension": ".py",
   "mimetype": "text/x-python",
   "name": "python",
   "nbconvert_exporter": "python",
   "pygments_lexer": "ipython3",
   "version": "3.11.3"
  }
 },
 "nbformat": 4,
 "nbformat_minor": 2
}
