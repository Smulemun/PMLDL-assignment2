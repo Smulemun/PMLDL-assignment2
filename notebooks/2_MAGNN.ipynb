{
 "cells": [
  {
   "cell_type": "code",
   "execution_count": 2,
   "metadata": {},
   "outputs": [],
   "source": [
    "import torch\n",
    "import torch.nn as nn\n",
    "import numpy as np\n",
    "import torch.nn.functional as F\n",
    "import pickle\n",
    "from tqdm import tqdm\n",
    "from torch.utils.data import Dataset, DataLoader"
   ]
  },
  {
   "cell_type": "code",
   "execution_count": 3,
   "metadata": {},
   "outputs": [],
   "source": [
    "NUM_USERS = 943\n",
    "NUM_MOVIES = 1682\n",
    "BATCH_SIZE = 128"
   ]
  },
  {
   "cell_type": "code",
   "execution_count": 4,
   "metadata": {},
   "outputs": [],
   "source": [
    "class MetapathEncoder(nn.Module):\n",
    "    def __init__(self,\n",
    "                 in_dim,\n",
    "                 out_dim, \n",
    "                ):\n",
    "        super().__init__()\n",
    "        self.fc = nn.Linear(in_dim, out_dim)\n",
    "\n",
    "    def forward(self, metapath):\n",
    "        x = torch.mean(metapath, dim=0)\n",
    "        return self.fc(x)\n",
    "\n",
    "class MAGNN(nn.Module):\n",
    "    def __init__(self,\n",
    "                #  user_features,\n",
    "                #  movie_features,\n",
    "                #  user_metapaths,\n",
    "                #  movie_metapaths,\n",
    "                 num_user_features,\n",
    "                 num_movie_features,\n",
    "                 hidden_dim,\n",
    "                 out_dim,\n",
    "                 batch_size,\n",
    "                 device\n",
    "                 ):\n",
    "        super().__init__()\n",
    "        self.hidden_dim = hidden_dim\n",
    "        self.batch_size = batch_size\n",
    "        self.device = device\n",
    "\n",
    "        # later take only train/test features and metapaths\n",
    "\n",
    "        # self.user_features = user_features \n",
    "        # self.movie_features = movie_features\n",
    "\n",
    "        # self.user_metapaths = user_metapaths\n",
    "        # self.movie_metapaths = movie_metapaths\n",
    "\n",
    "        # self.num_user_features = len(user_features[0])\n",
    "        # self.num_movie_features = len(movie_features[0])\n",
    "\n",
    "        self.num_user_features = num_user_features\n",
    "        self.num_movie_features = num_movie_features\n",
    "\n",
    "        self.user_feature_encoder = nn.Linear(self.num_user_features, hidden_dim)\n",
    "        self.movie_feature_encoder = nn.Linear(self.num_movie_features, hidden_dim)\n",
    "\n",
    "        self.metapath_encoder = MetapathEncoder(hidden_dim, hidden_dim)\n",
    "\n",
    "        self.user_node_embedding = nn.Linear(hidden_dim, out_dim)\n",
    "        self.movie_node_embedding = nn.Linear(hidden_dim, out_dim)\n",
    "\n",
    "        self.recommender = nn.Linear(2 * out_dim, 1)\n",
    "\n",
    "    def forward(self, edge):\n",
    "        user_node, movie_node = edge[:, 0], edge[:, 1]\n",
    "        batch_aggregated_user_metapath = []\n",
    "        for i in range(self.batch_size):\n",
    "            user_metapath_instances = self.user_metapaths[user_node[i].item()]\n",
    "            user_aggregated_metapath = torch.zeros(self.hidden_dim).to(self.device)\n",
    "            for metapath in user_metapath_instances:\n",
    "                metapath_isntance = torch.vstack([\n",
    "                    self.user_feature_encoder(self.user_features[metapath[0]]),\n",
    "                    self.movie_feature_encoder(self.movie_features[metapath[1]]),\n",
    "                    self.user_feature_encoder(self.user_features[metapath[2]])\n",
    "                ])\n",
    "                user_aggregated_metapath += self.metapath_encoder(metapath_isntance)\n",
    "            batch_aggregated_user_metapath.append(user_aggregated_metapath)\n",
    "        batch_aggregated_user_metapath = torch.vstack(batch_aggregated_user_metapath)\n",
    "\n",
    "        batch_aggregated_movie_metapath = []\n",
    "        for i in range(self.batch_size):\n",
    "            movie_metapath_instances = self.movie_metapaths[movie_node[i].item()]\n",
    "            movie_aggregated_metapath = torch.zeros(self.hidden_dim).to(self.device)\n",
    "            for metapath in movie_metapath_instances:\n",
    "                metapath_isntance = torch.vstack([\n",
    "                    self.movie_feature_encoder(self.movie_features[metapath[0]]),\n",
    "                    self.user_feature_encoder(self.user_features[metapath[1]]),\n",
    "                    self.movie_feature_encoder(self.movie_features[metapath[2]]),\n",
    "                ])\n",
    "                movie_aggregated_metapath += self.metapath_encoder(metapath_isntance)\n",
    "            batch_aggregated_movie_metapath.append(movie_aggregated_metapath)\n",
    "        batch_aggregated_movie_metapath = torch.vstack(batch_aggregated_movie_metapath)\n",
    "\n",
    "        user_embed = F.sigmoid(self.user_node_embedding(batch_aggregated_user_metapath))\n",
    "        movie_embed = F.sigmoid(self.movie_node_embedding(batch_aggregated_movie_metapath))\n",
    "\n",
    "        out = self.recommender(torch.cat([user_embed, movie_embed], dim=1))\n",
    "\n",
    "        return F.sigmoid(out)"
   ]
  },
  {
   "cell_type": "code",
   "execution_count": 5,
   "metadata": {},
   "outputs": [],
   "source": [
    "path = '../data/preprocessed/'\n",
    "\n",
    "in_file = open(path + 'user_features.pickle', 'rb')\n",
    "user_features = pickle.load(in_file)\n",
    "for key, val in user_features.items():\n",
    "    user_features[key] = torch.tensor(val.astype(np.float32))\n",
    "in_file.close()\n",
    "\n",
    "in_file = open(path + 'movie_features.pickle', 'rb')\n",
    "movie_features = pickle.load(in_file)\n",
    "for key, val in movie_features.items():\n",
    "    movie_features[key] = torch.tensor(val.astype(np.float32))\n",
    "in_file.close()\n",
    "\n",
    "in_file = open(path + 'u_m_u_metapath_map.pickle', 'rb')\n",
    "user_metapaths = pickle.load(in_file)\n",
    "in_file.close()\n",
    "\n",
    "in_file = open(path + 'm_u_m_metapath_map.pickle', 'rb')\n",
    "movie_metapaths = pickle.load(in_file)\n",
    "in_file.close()\n",
    "\n",
    "train_pos = np.load(path + 'train_pos.npy')\n",
    "test_pos = np.load(path + 'test_pos.npy')"
   ]
  },
  {
   "cell_type": "code",
   "execution_count": 6,
   "metadata": {},
   "outputs": [],
   "source": [
    "device = 'cuda' if torch.cuda.is_available() else 'cpu'\n",
    "\n",
    "for key, val in user_features.items():\n",
    "    user_features[key] = val.to(device)\n",
    "\n",
    "for key, val in movie_features.items():\n",
    "    movie_features[key] = val.to(device)"
   ]
  },
  {
   "cell_type": "code",
   "execution_count": 7,
   "metadata": {},
   "outputs": [],
   "source": [
    "class UserMovieDataset(Dataset):\n",
    "    def __init__(self, positives):\n",
    "\n",
    "        self.pos = positives\n",
    "        self.sample_negatives()\n",
    "\n",
    "        self.data = torch.tensor(np.vstack([self.pos, self.neg]))\n",
    "        self.labels = torch.vstack([torch.ones((len(self.pos), 1)), torch.zeros((len(self.neg), 1))])\n",
    "\n",
    "    def sample_negatives(self):\n",
    "        self.neg = []\n",
    "        for i in tqdm(range(len(self.pos))):\n",
    "            user_id = np.random.randint(NUM_USERS)\n",
    "            movie_id = np.random.randint(NUM_MOVIES)\n",
    "            while [user_id, movie_id] not in self.pos and \\\n",
    "                    [user_id, movie_id] not in self.neg:\n",
    "                user_id = np.random.randint(NUM_USERS)\n",
    "                movie_id = np.random.randint(NUM_MOVIES)\n",
    "            self.neg.append([user_id, movie_id])\n",
    "        self.neg = np.array(self.neg)\n",
    "\n",
    "    def __getitem__(self, idx):\n",
    "        return self.data[idx], self.labels[idx]\n",
    "\n",
    "    def __len__(self):\n",
    "        return len(self.data)"
   ]
  },
  {
   "cell_type": "code",
   "execution_count": 8,
   "metadata": {},
   "outputs": [
    {
     "name": "stderr",
     "output_type": "stream",
     "text": [
      "100%|██████████| 49906/49906 [00:16<00:00, 3002.41it/s]\n",
      "100%|██████████| 5469/5469 [00:00<00:00, 15404.54it/s]\n"
     ]
    }
   ],
   "source": [
    "train_dataset = UserMovieDataset(train_pos)\n",
    "test_dataset = UserMovieDataset(test_pos)"
   ]
  },
  {
   "cell_type": "code",
   "execution_count": 9,
   "metadata": {},
   "outputs": [],
   "source": [
    "train_loader = DataLoader(train_dataset, batch_size=BATCH_SIZE, shuffle=True)\n",
    "test_loader = DataLoader(test_dataset, batch_size=BATCH_SIZE, shuffle=True)"
   ]
  },
  {
   "cell_type": "code",
   "execution_count": 10,
   "metadata": {},
   "outputs": [],
   "source": [
    "model = MAGNN(user_features, movie_features, user_metapaths, movie_metapaths, 128, 128, BATCH_SIZE, device)"
   ]
  },
  {
   "cell_type": "code",
   "execution_count": 11,
   "metadata": {},
   "outputs": [],
   "source": [
    "criterion = nn.BCELoss()\n",
    "optimizer = torch.optim.Adam(model.parameters(), lr=2e-5)"
   ]
  },
  {
   "cell_type": "code",
   "execution_count": 1,
   "metadata": {},
   "outputs": [],
   "source": [
    "def train(epoch):\n",
    "    losses = []\n",
    "    accs = []\n",
    "\n",
    "    model.train()\n",
    "    progress_bar = tqdm(train_loader, desc=f'Epoch {epoch}')\n",
    "    for batch in progress_bar:\n",
    "        data, label = batch\n",
    "        data, label = data.to(device), label.to(device)\n",
    "\n",
    "        optimizer.zero_grad()\n",
    "\n",
    "        pred = model(data)\n",
    "\n",
    "        loss = criterion(label, pred)\n",
    "        acc = ((pred > 0.5) == label).sum() / BATCH_SIZE\n",
    "        \n",
    "        losses.append(loss.item())\n",
    "        accs.append(acc.cpu())\n",
    "\n",
    "        loss.backward()\n",
    "        optimizer.step()\n",
    "\n",
    "        progress_bar.set_description(f'Loss: {np.mean(losses):.5f}, Acc: {np.mean(accs):.5f}')"
   ]
  },
  {
   "cell_type": "code",
   "execution_count": 12,
   "metadata": {},
   "outputs": [
    {
     "name": "stderr",
     "output_type": "stream",
     "text": [
      "Epoch 0:   0%|          | 0/780 [00:00<?, ?it/s]"
     ]
    },
    {
     "name": "stderr",
     "output_type": "stream",
     "text": [
      "Loss: 52.54102, Acc: 0.30469:   0%|          | 1/780 [32:42<424:33:33, 1962.02s/it]"
     ]
    }
   ],
   "source": [
    "EPOCHS = 10\n",
    "model.to(device)\n",
    "\n",
    "for epoch in range(EPOCHS):\n",
    "    train(epoch)"
   ]
  }
 ],
 "metadata": {
  "kernelspec": {
   "display_name": "Python 3",
   "language": "python",
   "name": "python3"
  },
  "language_info": {
   "codemirror_mode": {
    "name": "ipython",
    "version": 3
   },
   "file_extension": ".py",
   "mimetype": "text/x-python",
   "name": "python",
   "nbconvert_exporter": "python",
   "pygments_lexer": "ipython3",
   "version": "3.11.3"
  }
 },
 "nbformat": 4,
 "nbformat_minor": 2
}
